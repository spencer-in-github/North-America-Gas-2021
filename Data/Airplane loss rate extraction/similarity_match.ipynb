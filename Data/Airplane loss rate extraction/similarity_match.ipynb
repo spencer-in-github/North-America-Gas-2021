{
 "cells": [
  {
   "cell_type": "code",
   "execution_count": 1,
   "metadata": {},
   "outputs": [],
   "source": [
    "import pandas as pd\n",
    "import numpy as np\n",
    "from sklearn.metrics.pairwise import cosine_similarity"
   ]
  },
  {
   "cell_type": "code",
   "execution_count": 2,
   "metadata": {},
   "outputs": [],
   "source": [
    "# Since the user has uploaded a CSV file, we can now directly read the data and calculate the similarity matrix.\n",
    "\n",
    "# Load the CSV data into a DataFrame\n",
    "csv_path = 'BASIN_CHARACTERISTICS.csv'\n",
    "df_basins = pd.read_csv(csv_path)"
   ]
  },
  {
   "cell_type": "code",
   "execution_count": 3,
   "metadata": {},
   "outputs": [],
   "source": [
    "# We need to select the columns from 'annual_gas' to 'well_age' to form the vectors\n",
    "# We also need to handle 'NA' values. We will assume 'NA' means missing data and will replace it with zeros.\n",
    "\n",
    "# Select the relevant columns\n",
    "vector_columns = df_basins.columns[df_basins.columns.get_loc('annual_gas'):df_basins.columns.get_loc('well_age')+1]\n",
    "df_vectors = df_basins[vector_columns].fillna(0)\n",
    "\n",
    "# Now calculate the cosine similarity matrix for these vectors\n",
    "cosine_sim = cosine_similarity(df_vectors)\n",
    "\n",
    "# Create a DataFrame from the similarity matrix, with rows and columns as basin names\n",
    "df_similarity = pd.DataFrame(cosine_sim, index=df_basins['AAPG.Basin.x'], columns=df_basins['AAPG.Basin.x'])"
   ]
  },
  {
   "cell_type": "code",
   "execution_count": null,
   "metadata": {},
   "outputs": [],
   "source": [
    "# For each basin, find the most similar other basin\n",
    "# We will first set the diagonal to NaN to avoid self-matching\n",
    "np.fill_diagonal(df_similarity.values, np.nan)"
   ]
  },
  {
   "cell_type": "code",
   "execution_count": 5,
   "metadata": {},
   "outputs": [],
   "source": [
    "# Select only columns with aerial data\n",
    "df_similarity_long = df_similarity[[\"PERMIAN BASIN\",\"SAN JOAQUIN BASIN\",\"DENVER JULESBURG\",\n",
    "\"APPALACHIAN\",\"UINTA\",\"FT WORTH BASIN\"]]"
   ]
  },
  {
   "cell_type": "code",
   "execution_count": 10,
   "metadata": {},
   "outputs": [],
   "source": [
    "most_similar_basins = df_similarity_long.idxmax(axis=1)\n",
    "\n",
    "most_similar_basins.to_csv(\"SIMILARITY_MATCH.csv\")"
   ]
  },
  {
   "cell_type": "code",
   "execution_count": null,
   "metadata": {},
   "outputs": [],
   "source": [
    "\n",
    "# Create a DataFrame for the most similar basin pairs\n",
    "most_similar_pairs = most_similar_basins.reset_index()\n",
    "most_similar_pairs.columns = ['Basin', 'Most Similar Basin']\n",
    "\n",
    "most_similar_pairs\n"
   ]
  }
 ],
 "metadata": {
  "kernelspec": {
   "display_name": "Python 3.9.15 ('dsenv')",
   "language": "python",
   "name": "python3"
  },
  "language_info": {
   "codemirror_mode": {
    "name": "ipython",
    "version": 3
   },
   "file_extension": ".py",
   "mimetype": "text/x-python",
   "name": "python",
   "nbconvert_exporter": "python",
   "pygments_lexer": "ipython3",
   "version": "3.9.15"
  },
  "orig_nbformat": 4,
  "vscode": {
   "interpreter": {
    "hash": "cd3a564d787a9febcb8d0a8706488ca87f095630975194b92126f7994fee41ee"
   }
  }
 },
 "nbformat": 4,
 "nbformat_minor": 2
}
