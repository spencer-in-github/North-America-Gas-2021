{
 "cells": [
  {
   "cell_type": "code",
   "execution_count": 2,
   "id": "2b83a918",
   "metadata": {},
   "outputs": [
    {
     "name": "stderr",
     "output_type": "stream",
     "text": [
      "/Users/spencerzhang/opt/anaconda3/envs/dsenv/lib/python3.9/site-packages/geopandas/_compat.py:153: UserWarning: The Shapely GEOS version (3.11.1-CAPI-1.17.1) is incompatible with the GEOS version PyGEOS was compiled with (3.10.4-CAPI-1.16.2). Conversions between both will be slow.\n",
      "  set_use_pygeos()\n",
      "/var/folders/g6/rg58f3ds4jj7c23g1xr0j25m0000gn/T/ipykernel_96560/3679987922.py:1: DeprecationWarning: GeoPandas is set to use PyGEOS over Shapely. PyGEOS support is deprecatedand will be removed in GeoPandas 1.0, released in the Q1 of 2024. Please migrate to Shapely 2.0 (https://geopandas.org/en/stable/docs/user_guide/pygeos_to_shapely.html).\n",
      "  import geopandas as gpd\n"
     ]
    }
   ],
   "source": [
    "import geopandas as gpd\n",
    "import matplotlib.pyplot as plt\n",
    "from shapely.geometry import Point\n",
    "import numpy as np"
   ]
  },
  {
   "cell_type": "code",
   "execution_count": null,
   "id": "8c56ae19",
   "metadata": {},
   "outputs": [],
   "source": [
    "# Load GeoJSON\n",
    "gdf = gpd.read_file(\n",
    "    \"/Users/spencerzhang/GitHub/PhD/North-America-Gas-2021/NAG publishable plot/df_viz_bibasin.geojson\")"
   ]
  },
  {
   "cell_type": "code",
   "execution_count": null,
   "id": "61abc271",
   "metadata": {},
   "outputs": [],
   "source": []
  }
 ],
 "metadata": {
  "kernelspec": {
   "display_name": "Python 3 (ipykernel)",
   "language": "python",
   "name": "python3"
  },
  "language_info": {
   "codemirror_mode": {
    "name": "ipython",
    "version": 3
   },
   "file_extension": ".py",
   "mimetype": "text/x-python",
   "name": "python",
   "nbconvert_exporter": "python",
   "pygments_lexer": "ipython3",
   "version": "3.9.15"
  }
 },
 "nbformat": 4,
 "nbformat_minor": 5
}
